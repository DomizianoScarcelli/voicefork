{
    "cells": [
        {
            "cell_type": "code",
            "execution_count": 1,
            "metadata": {},
            "outputs": [
                {
                    "name": "stderr",
                    "output_type": "stream",
                    "text": [
                        "/Users/dov/miniconda3/envs/cloud/lib/python3.11/site-packages/tqdm/auto.py:21: TqdmWarning: IProgress not found. Please update jupyter and ipywidgets. See https://ipywidgets.readthedocs.io/en/stable/user_install.html\n",
                        "  from .autonotebook import tqdm as notebook_tqdm\n"
                    ]
                }
            ],
            "source": [
                "import numpy as np\n",
                "import pandas as pd\n",
                "import requests\n",
                "from zipfile import ZipFile\n",
                "from ahocorasick import Automaton\n",
                "from tqdm.auto import tqdm"
            ]
        },
        {
            "attachments": {},
            "cell_type": "markdown",
            "metadata": {},
            "source": [
                "# Code to clean the data"
            ]
        },
        {
            "cell_type": "code",
            "execution_count": 2,
            "metadata": {},
            "outputs": [
                {
                    "name": "stderr",
                    "output_type": "stream",
                    "text": [
                        "/var/folders/jb/ntxm50wx2wv90pnq36yd8w940000gn/T/ipykernel_40406/804822752.py:4: DtypeWarning: Columns (7) have mixed types. Specify dtype option on import or set low_memory=False.\n",
                        "  data = pd.read_csv(zip_file.open(csv_file))\n"
                    ]
                }
            ],
            "source": [
                "# FILE = \"./italian_restaurants.zip\"\n",
                "# zip_file = ZipFile(FILE)\n",
                "# csv_file = zip_file.namelist()[0]\n",
                "# data = pd.read_csv(zip_file.open(csv_file))"
            ]
        },
        {
            "attachments": {},
            "cell_type": "markdown",
            "metadata": {},
            "source": [
                "Using file with clustered cuisines and city zones"
            ]
        },
        {
            "cell_type": "code",
            "execution_count": 2,
            "metadata": {},
            "outputs": [
                {
                    "name": "stderr",
                    "output_type": "stream",
                    "text": [
                        "/var/folders/jb/ntxm50wx2wv90pnq36yd8w940000gn/T/ipykernel_37692/2074159929.py:2: DtypeWarning: Columns (9) have mixed types. Specify dtype option on import or set low_memory=False.\n",
                        "  data = pd.read_csv(FILE)\n"
                    ]
                }
            ],
            "source": [
                "FILE = \"./restaurants_zone.csv\"\n",
                "data = pd.read_csv(FILE)"
            ]
        },
        {
            "cell_type": "code",
            "execution_count": 6,
            "metadata": {},
            "outputs": [
                {
                    "data": {
                        "text/plain": [
                            "Unnamed: 0.2                                                                     10002\n",
                            "Unnamed: 0.1                                                                     10002\n",
                            "Unnamed: 0                                                                      660045\n",
                            "restaurant_link                                                      g1057996-d3876793\n",
                            "restaurant_name                                                             Su Nuraghe\n",
                            "original_location                    [\"Europe\", \"Italy\", \"Sardinia\", \"Province of N...\n",
                            "country                                                                          Italy\n",
                            "region                                                                        Sardinia\n",
                            "province                                                             Province of Nuoro\n",
                            "city                                                                               NaN\n",
                            "address                                  Via Sardegna 1, 08020, Posada, Sardinia Italy\n",
                            "latitude                                                                      40.14836\n",
                            "longitude                                                                      9.21846\n",
                            "claimed                                                                        Claimed\n",
                            "awards                                                                             NaN\n",
                            "popularity_detailed                                    #13 of 17 Restaurants in Posada\n",
                            "popularity_generic                                   #15 of 23 places to eat in Posada\n",
                            "top_tags                                            Mid-range, Italian, Pizza, Seafood\n",
                            "price_level                                                                     €€-€€€\n",
                            "price_range                                                                        NaN\n",
                            "meals                                            Dinner, Breakfast, Lunch, After-hours\n",
                            "cuisines                                                       Italian, Pizza, Seafood\n",
                            "special_diets                                                                      NaN\n",
                            "features                             Reservations, Seating, Highchairs Available, S...\n",
                            "vegetarian_friendly                                                                  N\n",
                            "vegan_options                                                                        N\n",
                            "gluten_free                                                                          N\n",
                            "original_open_hours                  {\"Mon\": [\"06:30-01:00\"], \"Tue\": [\"06:30-01:00\"...\n",
                            "open_days_per_week                                                                 7.0\n",
                            "open_hours_per_week                                                              128.5\n",
                            "working_shifts_per_week                                                            7.0\n",
                            "avg_rating                                                                         3.5\n",
                            "total_reviews_count                                                              116.0\n",
                            "default_language                                                               English\n",
                            "reviews_count_in_default_language                                                  2.0\n",
                            "excellent                                                                          0.0\n",
                            "very_good                                                                          1.0\n",
                            "average                                                                            0.0\n",
                            "poor                                                                               0.0\n",
                            "terrible                                                                           1.0\n",
                            "food                                                                               3.5\n",
                            "service                                                                            3.5\n",
                            "value                                                                              3.5\n",
                            "atmosphere                                                                         4.0\n",
                            "keywords                                                                           NaN\n",
                            "macro_cuisines                                         ['italian', 'pizza', 'seafood']\n",
                            "zone                                                                            Lodine\n",
                            "Name: 10002, dtype: object"
                        ]
                    },
                    "execution_count": 6,
                    "metadata": {},
                    "output_type": "execute_result"
                }
            ],
            "source": [
                "data.iloc[10002]"
            ]
        },
        {
            "attachments": {},
            "cell_type": "markdown",
            "metadata": {},
            "source": [
                "Removing useless fields"
            ]
        },
        {
            "cell_type": "code",
            "execution_count": 7,
            "metadata": {},
            "outputs": [],
            "source": [
                "df = data.drop([\"claimed\", \n",
                "           \"awards\", \n",
                "           \"popularity_detailed\", \n",
                "           \"popularity_generic\", \n",
                "           \"price_range\", \n",
                "           \"features\", \n",
                "           \"open_days_per_week\", \n",
                "           \"open_hours_per_week\", \n",
                "           \"working_shifts_per_week\",\n",
                "           \"default_language\",\n",
                "           \"reviews_count_in_default_language\",\n",
                "           \"excellent\",\n",
                "           \"very_good\",\n",
                "           \"average\",\n",
                "           \"poor\",\n",
                "           \"terrible\",\n",
                "           \"food\",\n",
                "           \"service\",\n",
                "           \"value\",\n",
                "           \"atmosphere\",\n",
                "           \"keywords\"], axis=1)"
            ]
        },
        {
            "attachments": {},
            "cell_type": "markdown",
            "metadata": {},
            "source": [
                "Populating the \"City\" field taking it from the address"
            ]
        },
        {
            "cell_type": "code",
            "execution_count": 8,
            "metadata": {},
            "outputs": [],
            "source": [
                "comuni_df = pd.read_csv(\"./elenco_comuni_italiani.csv\", encoding='iso-8859-1', delimiter=\";\")"
            ]
        },
        {
            "cell_type": "code",
            "execution_count": 9,
            "metadata": {},
            "outputs": [
                {
                    "name": "stderr",
                    "output_type": "stream",
                    "text": [
                        "100%|██████████| 224763/224763 [00:00<00:00, 914725.52it/s]\n"
                    ]
                }
            ],
            "source": [
                "#TODO: \"Rome\" non viene preso, quindi risolvi questa cosa\n",
                "def build_automaton(keywords):\n",
                "    automaton = Automaton()\n",
                "    for keyword in keywords:\n",
                "        automaton.add_word(keyword, keyword)\n",
                "    automaton.make_automaton()\n",
                "    return automaton\n",
                "\n",
                "keywords = [row['Denominazione in italiano'].lower() for _, row in comuni_df.iterrows() if type(row[\"Denominazione in italiano\"]) == str]\n",
                "automaton = build_automaton(keywords)\n",
                "\n",
                "def find_comune(address):\n",
                "    found = set()\n",
                "    for item in automaton.iter(\",\".join(address.split(\",\")[1:]).lower()):\n",
                "        found.add(item[1])\n",
                "    if found:\n",
                "        return max(found, key=len)\n",
                "    else:\n",
                "        return None\n",
                "\n",
                "tqdm.pandas()\n",
                "df['city'] = df['address'].progress_apply(find_comune)\n",
                "\n"
            ]
        },
        {
            "cell_type": "code",
            "execution_count": 10,
            "metadata": {},
            "outputs": [],
            "source": [
                "final_df = df.copy()\n",
                "final_df['total_reviews_count'] = final_df['total_reviews_count'].fillna(0.0)\n",
                "final_df['avg_rating'] = final_df['avg_rating'].fillna(0.0)\n",
                "final_df = final_df.fillna(\"\")\n",
                "final_df = final_df[final_df[\"latitude\"] != \"\"]\n",
                "final_df = final_df[final_df[\"longitude\"] != \"\"]"
            ]
        },
        {
            "cell_type": "code",
            "execution_count": 11,
            "metadata": {},
            "outputs": [],
            "source": [
                "df = final_df.reset_index()"
            ]
        },
        {
            "attachments": {},
            "cell_type": "markdown",
            "metadata": {},
            "source": [
                "### Save the dataframe as a zipped file"
            ]
        },
        {
            "cell_type": "code",
            "execution_count": 9,
            "metadata": {},
            "outputs": [],
            "source": [
                "# from zipfile import ZipFile\n",
                "# import os\n",
                "\n",
                "# DF_PATH = \"./italian_restaurant_clean.csv\"\n",
                "# ZIP_PATH = \"./italian_restaurant_clean.zip\"\n",
                "# final_df.to_csv(DF_PATH)\n",
                "# with ZipFile(ZIP_PATH, \"w\") as myzip:\n",
                "#     myzip.write(DF_PATH)\n",
                "\n",
                "# os.remove(DF_PATH)"
            ]
        },
        {
            "attachments": {},
            "cell_type": "markdown",
            "metadata": {},
            "source": [
                "# Code to insert the restaurants in the database "
            ]
        },
        {
            "cell_type": "code",
            "execution_count": 10,
            "metadata": {},
            "outputs": [],
            "source": [
                "# df = pd.read_csv(\"./italian_restaurant_clean.zip\")"
            ]
        },
        {
            "cell_type": "code",
            "execution_count": 11,
            "metadata": {},
            "outputs": [],
            "source": [
                "# import tensorflow as tf\n",
                "# import tensorflow_hub as hub\n",
                "# import os\n",
                "# os.environ['TFHUB_DOWNLOAD_PROGRESS'] = \"1\"\n",
                "\n",
                "# # Load the Universal Sentence Encoder\n",
                "# model = hub.load(\n",
                "#                 \"https://tfhub.dev/google/universal-sentence-encoder-large/5\")\n",
                "# def embed_name(name):\n",
                "#     embeddings = model([name])\n",
                "#     return embeddings[0]"
            ]
        },
        {
            "cell_type": "code",
            "execution_count": 12,
            "metadata": {},
            "outputs": [],
            "source": [
                "# restaurant1 = \"Mariuccio\"\n",
                "# restaurant2 = \"Mariuccio\"\n",
                "\n",
                "# # Embed the restaurant names\n",
                "# embedding1 = embed_name(restaurant1)\n",
                "# embedding2 = embed_name(restaurant2)\n",
                "\n",
                "# # Compute similarity between the embeddings\n",
                "# distance = 1 - np.inner(embedding1, embedding2)\n",
                "\n",
                "# print(distance)"
            ]
        },
        {
            "cell_type": "code",
            "execution_count": 12,
            "metadata": {},
            "outputs": [],
            "source": [
                "# from minio import Minio\n",
                "# BASE = \"http://proxy-load-balancer-203641034.us-east-1.elb.amazonaws.com\"\n",
                "BASE = \"http://localhost:3000\"\n",
                "URL = f'{BASE}/restaurants/create-restaurant'\n",
                "\n",
                "# client = Minio(\n",
                "#     \"localhost:9002\",\n",
                "#     access_key=\"Dec6s4zuTzoVhnvYmALO\",\n",
                "#     secret_key=\"cWizD0DDGjGPNfflDDDOXmjE9VvzdEXvQrOZPEpI\",\n",
                "#     secure=False  # Otherwise bug\n",
                "# )"
            ]
        },
        {
            "attachments": {},
            "cell_type": "markdown",
            "metadata": {},
            "source": [
                "Code to upload restaurants in batches"
            ]
        },
        {
            "cell_type": "code",
            "execution_count": 24,
            "metadata": {},
            "outputs": [
                {
                    "name": "stderr",
                    "output_type": "stream",
                    "text": [
                        "100%|██████████| 2227/2227 [06:48<00:00,  5.45it/s]\n"
                    ]
                }
            ],
            "source": [
                "import requests\n",
                "from tqdm import tqdm\n",
                "import json\n",
                "\n",
                "# BASE = \"http://localhost:3002\"\n",
                "# URL = f'{BASE}/create-restaurant-batch'\n",
                "\n",
                "BASE = \"http://localhost:3000\"\n",
                "URL = f'{BASE}/restaurants/create-restaurant-batch'\n",
                "\n",
                "num_images = 6438\n",
                "\n",
                "def assign_image(index):\n",
                "    return index % num_images\n",
                "\n",
                "def process_string_list(string: str) -> str:\n",
                "    result = string.strip('][').replace(\"'\", \"\")\n",
                "    return result\n",
                "\n",
                "# Modify the create_restaurant function to accept a DataFrame slice\n",
                "def create_restaurants(df_slice):\n",
                "    body = []\n",
                "\n",
                "    for _, row in df_slice.iterrows():\n",
                "        restaurant = {\n",
                "            \"name\": row[\"restaurant_name\"],\n",
                "            \"embeddingName\": f\"embedding_{(row['index'])}\",\n",
                "            \"imageName\": f\"restaurant_image_{assign_image(row['index'])}\",\n",
                "            \"address\": row[\"address\"],\n",
                "            \"latitude\": float(row[\"latitude\"]),\n",
                "            \"longitude\": float(row[\"longitude\"]),\n",
                "            \"country\": row[\"country\"],\n",
                "            \"region\": row[\"region\"],\n",
                "            \"province\": row[\"province\"],\n",
                "            \"city\": row[\"city\"],\n",
                "            \"tags\": row[\"top_tags\"],\n",
                "            \"cuisines\": row[\"cuisines\"],\n",
                "            \"specialDiets\": row[\"special_diets\"],\n",
                "            \"priceLevel\": row[\"price_level\"],\n",
                "            \"meals\": row[\"meals\"],\n",
                "            \"avgRating\": float(row[\"avg_rating\"]),\n",
                "            \"vegetarianFriendly\": row[\"vegetarian_friendly\"] == \"Y\",\n",
                "            \"veganFriendly\": row[\"vegan_options\"] == \"Y\",\n",
                "            \"glutenFree\": row[\"gluten_free\"] == \"Y\",\n",
                "            \"reviewsNumber\": int(row[\"total_reviews_count\"]),\n",
                "            \"macroCuisines\": process_string_list(row[\"macro_cuisines\"]),\n",
                "            \"zone\": row[\"zone\"]\n",
                "        }\n",
                "        body.append(restaurant)\n",
                "            \n",
                "    requests.post(URL, json=body)\n",
                "\n",
                "# Split the DataFrame into batches of restaurants\n",
                "batch_size = 100\n",
                "num_batches = len(df) // batch_size + 1\n",
                "for i in tqdm(range(num_batches)):\n",
                "    start_index = i * batch_size\n",
                "    end_index = min((i + 1) * batch_size, len(df))\n",
                "    df_slice = df[start_index:end_index]\n",
                "\n",
                "    create_restaurants(df_slice)"
            ]
        },
        {
            "cell_type": "code",
            "execution_count": 9,
            "metadata": {},
            "outputs": [
                {
                    "name": "stderr",
                    "output_type": "stream",
                    "text": [
                        "  1%|          | 1485/222603 [09:02<22:27:15,  2.74it/s]\n"
                    ]
                },
                {
                    "ename": "KeyboardInterrupt",
                    "evalue": "",
                    "output_type": "error",
                    "traceback": [
                        "\u001b[0;31m---------------------------------------------------------------------------\u001b[0m",
                        "\u001b[0;31mKeyboardInterrupt\u001b[0m                         Traceback (most recent call last)",
                        "Cell \u001b[0;32mIn[9], line 53\u001b[0m\n\u001b[1;32m     42\u001b[0m \u001b[39m# import json\u001b[39;00m\n\u001b[1;32m     43\u001b[0m \u001b[39m# import io\u001b[39;00m\n\u001b[1;32m     44\u001b[0m \u001b[39m# def insert_embeddings(row):\u001b[39;00m\n\u001b[0;32m   (...)\u001b[0m\n\u001b[1;32m     49\u001b[0m \u001b[39m#     client.put_object(\u001b[39;00m\n\u001b[1;32m     50\u001b[0m \u001b[39m#             BUCKET_NAME, f\"embedding_{row['index']}\", io.BytesIO(embedding_bytes), length=len(embedding_bytes))\u001b[39;00m\n\u001b[1;32m     52\u001b[0m tqdm\u001b[39m.\u001b[39mpandas()\n\u001b[0;32m---> 53\u001b[0m df\u001b[39m.\u001b[39;49mprogress_apply(create_restaurant, axis\u001b[39m=\u001b[39;49m\u001b[39m1\u001b[39;49m)\n\u001b[1;32m     54\u001b[0m \u001b[39m# df.progress_apply(insert_embeddings, axis=1)\u001b[39;00m\n",
                        "File \u001b[0;32m~/miniconda3/envs/cloud/lib/python3.11/site-packages/tqdm/std.py:805\u001b[0m, in \u001b[0;36mtqdm.pandas.<locals>.inner_generator.<locals>.inner\u001b[0;34m(df, func, *args, **kwargs)\u001b[0m\n\u001b[1;32m    802\u001b[0m \u001b[39m# Apply the provided function (in **kwargs)\u001b[39;00m\n\u001b[1;32m    803\u001b[0m \u001b[39m# on the df using our wrapper (which provides bar updating)\u001b[39;00m\n\u001b[1;32m    804\u001b[0m \u001b[39mtry\u001b[39;00m:\n\u001b[0;32m--> 805\u001b[0m     \u001b[39mreturn\u001b[39;00m \u001b[39mgetattr\u001b[39;49m(df, df_function)(wrapper, \u001b[39m*\u001b[39;49m\u001b[39m*\u001b[39;49mkwargs)\n\u001b[1;32m    806\u001b[0m \u001b[39mfinally\u001b[39;00m:\n\u001b[1;32m    807\u001b[0m     t\u001b[39m.\u001b[39mclose()\n",
                        "File \u001b[0;32m~/miniconda3/envs/cloud/lib/python3.11/site-packages/pandas/core/frame.py:9433\u001b[0m, in \u001b[0;36mDataFrame.apply\u001b[0;34m(self, func, axis, raw, result_type, args, **kwargs)\u001b[0m\n\u001b[1;32m   9422\u001b[0m \u001b[39mfrom\u001b[39;00m \u001b[39mpandas\u001b[39;00m\u001b[39m.\u001b[39;00m\u001b[39mcore\u001b[39;00m\u001b[39m.\u001b[39;00m\u001b[39mapply\u001b[39;00m \u001b[39mimport\u001b[39;00m frame_apply\n\u001b[1;32m   9424\u001b[0m op \u001b[39m=\u001b[39m frame_apply(\n\u001b[1;32m   9425\u001b[0m     \u001b[39mself\u001b[39m,\n\u001b[1;32m   9426\u001b[0m     func\u001b[39m=\u001b[39mfunc,\n\u001b[0;32m   (...)\u001b[0m\n\u001b[1;32m   9431\u001b[0m     kwargs\u001b[39m=\u001b[39mkwargs,\n\u001b[1;32m   9432\u001b[0m )\n\u001b[0;32m-> 9433\u001b[0m \u001b[39mreturn\u001b[39;00m op\u001b[39m.\u001b[39;49mapply()\u001b[39m.\u001b[39m__finalize__(\u001b[39mself\u001b[39m, method\u001b[39m=\u001b[39m\u001b[39m\"\u001b[39m\u001b[39mapply\u001b[39m\u001b[39m\"\u001b[39m)\n",
                        "File \u001b[0;32m~/miniconda3/envs/cloud/lib/python3.11/site-packages/pandas/core/apply.py:678\u001b[0m, in \u001b[0;36mFrameApply.apply\u001b[0;34m(self)\u001b[0m\n\u001b[1;32m    675\u001b[0m \u001b[39melif\u001b[39;00m \u001b[39mself\u001b[39m\u001b[39m.\u001b[39mraw:\n\u001b[1;32m    676\u001b[0m     \u001b[39mreturn\u001b[39;00m \u001b[39mself\u001b[39m\u001b[39m.\u001b[39mapply_raw()\n\u001b[0;32m--> 678\u001b[0m \u001b[39mreturn\u001b[39;00m \u001b[39mself\u001b[39;49m\u001b[39m.\u001b[39;49mapply_standard()\n",
                        "File \u001b[0;32m~/miniconda3/envs/cloud/lib/python3.11/site-packages/pandas/core/apply.py:798\u001b[0m, in \u001b[0;36mFrameApply.apply_standard\u001b[0;34m(self)\u001b[0m\n\u001b[1;32m    797\u001b[0m \u001b[39mdef\u001b[39;00m \u001b[39mapply_standard\u001b[39m(\u001b[39mself\u001b[39m):\n\u001b[0;32m--> 798\u001b[0m     results, res_index \u001b[39m=\u001b[39m \u001b[39mself\u001b[39;49m\u001b[39m.\u001b[39;49mapply_series_generator()\n\u001b[1;32m    800\u001b[0m     \u001b[39m# wrap results\u001b[39;00m\n\u001b[1;32m    801\u001b[0m     \u001b[39mreturn\u001b[39;00m \u001b[39mself\u001b[39m\u001b[39m.\u001b[39mwrap_results(results, res_index)\n",
                        "File \u001b[0;32m~/miniconda3/envs/cloud/lib/python3.11/site-packages/pandas/core/apply.py:814\u001b[0m, in \u001b[0;36mFrameApply.apply_series_generator\u001b[0;34m(self)\u001b[0m\n\u001b[1;32m    811\u001b[0m \u001b[39mwith\u001b[39;00m option_context(\u001b[39m\"\u001b[39m\u001b[39mmode.chained_assignment\u001b[39m\u001b[39m\"\u001b[39m, \u001b[39mNone\u001b[39;00m):\n\u001b[1;32m    812\u001b[0m     \u001b[39mfor\u001b[39;00m i, v \u001b[39min\u001b[39;00m \u001b[39menumerate\u001b[39m(series_gen):\n\u001b[1;32m    813\u001b[0m         \u001b[39m# ignore SettingWithCopy here in case the user mutates\u001b[39;00m\n\u001b[0;32m--> 814\u001b[0m         results[i] \u001b[39m=\u001b[39m \u001b[39mself\u001b[39;49m\u001b[39m.\u001b[39;49mf(v)\n\u001b[1;32m    815\u001b[0m         \u001b[39mif\u001b[39;00m \u001b[39misinstance\u001b[39m(results[i], ABCSeries):\n\u001b[1;32m    816\u001b[0m             \u001b[39m# If we have a view on v, we need to make a copy because\u001b[39;00m\n\u001b[1;32m    817\u001b[0m             \u001b[39m#  series_generator will swap out the underlying data\u001b[39;00m\n\u001b[1;32m    818\u001b[0m             results[i] \u001b[39m=\u001b[39m results[i]\u001b[39m.\u001b[39mcopy(deep\u001b[39m=\u001b[39m\u001b[39mFalse\u001b[39;00m)\n",
                        "File \u001b[0;32m~/miniconda3/envs/cloud/lib/python3.11/site-packages/tqdm/std.py:800\u001b[0m, in \u001b[0;36mtqdm.pandas.<locals>.inner_generator.<locals>.inner.<locals>.wrapper\u001b[0;34m(*args, **kwargs)\u001b[0m\n\u001b[1;32m    794\u001b[0m \u001b[39mdef\u001b[39;00m \u001b[39mwrapper\u001b[39m(\u001b[39m*\u001b[39margs, \u001b[39m*\u001b[39m\u001b[39m*\u001b[39mkwargs):\n\u001b[1;32m    795\u001b[0m     \u001b[39m# update tbar correctly\u001b[39;00m\n\u001b[1;32m    796\u001b[0m     \u001b[39m# it seems `pandas apply` calls `func` twice\u001b[39;00m\n\u001b[1;32m    797\u001b[0m     \u001b[39m# on the first column/row to decide whether it can\u001b[39;00m\n\u001b[1;32m    798\u001b[0m     \u001b[39m# take a fast or slow code path; so stop when t.total==t.n\u001b[39;00m\n\u001b[1;32m    799\u001b[0m     t\u001b[39m.\u001b[39mupdate(n\u001b[39m=\u001b[39m\u001b[39m1\u001b[39m \u001b[39mif\u001b[39;00m \u001b[39mnot\u001b[39;00m t\u001b[39m.\u001b[39mtotal \u001b[39mor\u001b[39;00m t\u001b[39m.\u001b[39mn \u001b[39m<\u001b[39m t\u001b[39m.\u001b[39mtotal \u001b[39melse\u001b[39;00m \u001b[39m0\u001b[39m)\n\u001b[0;32m--> 800\u001b[0m     \u001b[39mreturn\u001b[39;00m func(\u001b[39m*\u001b[39;49margs, \u001b[39m*\u001b[39;49m\u001b[39m*\u001b[39;49mkwargs)\n",
                        "Cell \u001b[0;32mIn[9], line 40\u001b[0m, in \u001b[0;36mcreate_restaurant\u001b[0;34m(row)\u001b[0m\n\u001b[1;32m     15\u001b[0m \u001b[39mdef\u001b[39;00m \u001b[39mcreate_restaurant\u001b[39m(row):\n\u001b[1;32m     16\u001b[0m     body \u001b[39m=\u001b[39m {\n\u001b[1;32m     17\u001b[0m             \u001b[39m\"\u001b[39m\u001b[39mname\u001b[39m\u001b[39m\"\u001b[39m: row[\u001b[39m\"\u001b[39m\u001b[39mrestaurant_name\u001b[39m\u001b[39m\"\u001b[39m],\n\u001b[1;32m     18\u001b[0m             \u001b[39m\"\u001b[39m\u001b[39membeddingName\u001b[39m\u001b[39m\"\u001b[39m: \u001b[39mf\u001b[39m\u001b[39m\"\u001b[39m\u001b[39membedding_\u001b[39m\u001b[39m{\u001b[39;00m(row[\u001b[39m'\u001b[39m\u001b[39mindex\u001b[39m\u001b[39m'\u001b[39m])\u001b[39m}\u001b[39;00m\u001b[39m\"\u001b[39m,\n\u001b[0;32m   (...)\u001b[0m\n\u001b[1;32m     36\u001b[0m             \u001b[39m\"\u001b[39m\u001b[39mreviewsNumber\u001b[39m\u001b[39m\"\u001b[39m: \u001b[39mint\u001b[39m(row[\u001b[39m\"\u001b[39m\u001b[39mtotal_reviews_count\u001b[39m\u001b[39m\"\u001b[39m])\n\u001b[1;32m     37\u001b[0m         }\n\u001b[0;32m---> 40\u001b[0m     result \u001b[39m=\u001b[39m requests\u001b[39m.\u001b[39;49mpost(URL, json\u001b[39m=\u001b[39;49mbody)\n",
                        "File \u001b[0;32m~/miniconda3/envs/cloud/lib/python3.11/site-packages/requests/api.py:115\u001b[0m, in \u001b[0;36mpost\u001b[0;34m(url, data, json, **kwargs)\u001b[0m\n\u001b[1;32m    103\u001b[0m \u001b[39mdef\u001b[39;00m \u001b[39mpost\u001b[39m(url, data\u001b[39m=\u001b[39m\u001b[39mNone\u001b[39;00m, json\u001b[39m=\u001b[39m\u001b[39mNone\u001b[39;00m, \u001b[39m*\u001b[39m\u001b[39m*\u001b[39mkwargs):\n\u001b[1;32m    104\u001b[0m \u001b[39m    \u001b[39m\u001b[39mr\u001b[39m\u001b[39m\"\"\"Sends a POST request.\u001b[39;00m\n\u001b[1;32m    105\u001b[0m \n\u001b[1;32m    106\u001b[0m \u001b[39m    :param url: URL for the new :class:`Request` object.\u001b[39;00m\n\u001b[0;32m   (...)\u001b[0m\n\u001b[1;32m    112\u001b[0m \u001b[39m    :rtype: requests.Response\u001b[39;00m\n\u001b[1;32m    113\u001b[0m \u001b[39m    \"\"\"\u001b[39;00m\n\u001b[0;32m--> 115\u001b[0m     \u001b[39mreturn\u001b[39;00m request(\u001b[39m\"\u001b[39;49m\u001b[39mpost\u001b[39;49m\u001b[39m\"\u001b[39;49m, url, data\u001b[39m=\u001b[39;49mdata, json\u001b[39m=\u001b[39;49mjson, \u001b[39m*\u001b[39;49m\u001b[39m*\u001b[39;49mkwargs)\n",
                        "File \u001b[0;32m~/miniconda3/envs/cloud/lib/python3.11/site-packages/requests/api.py:59\u001b[0m, in \u001b[0;36mrequest\u001b[0;34m(method, url, **kwargs)\u001b[0m\n\u001b[1;32m     55\u001b[0m \u001b[39m# By using the 'with' statement we are sure the session is closed, thus we\u001b[39;00m\n\u001b[1;32m     56\u001b[0m \u001b[39m# avoid leaving sockets open which can trigger a ResourceWarning in some\u001b[39;00m\n\u001b[1;32m     57\u001b[0m \u001b[39m# cases, and look like a memory leak in others.\u001b[39;00m\n\u001b[1;32m     58\u001b[0m \u001b[39mwith\u001b[39;00m sessions\u001b[39m.\u001b[39mSession() \u001b[39mas\u001b[39;00m session:\n\u001b[0;32m---> 59\u001b[0m     \u001b[39mreturn\u001b[39;00m session\u001b[39m.\u001b[39;49mrequest(method\u001b[39m=\u001b[39;49mmethod, url\u001b[39m=\u001b[39;49murl, \u001b[39m*\u001b[39;49m\u001b[39m*\u001b[39;49mkwargs)\n",
                        "File \u001b[0;32m~/miniconda3/envs/cloud/lib/python3.11/site-packages/requests/sessions.py:587\u001b[0m, in \u001b[0;36mSession.request\u001b[0;34m(self, method, url, params, data, headers, cookies, files, auth, timeout, allow_redirects, proxies, hooks, stream, verify, cert, json)\u001b[0m\n\u001b[1;32m    582\u001b[0m send_kwargs \u001b[39m=\u001b[39m {\n\u001b[1;32m    583\u001b[0m     \u001b[39m\"\u001b[39m\u001b[39mtimeout\u001b[39m\u001b[39m\"\u001b[39m: timeout,\n\u001b[1;32m    584\u001b[0m     \u001b[39m\"\u001b[39m\u001b[39mallow_redirects\u001b[39m\u001b[39m\"\u001b[39m: allow_redirects,\n\u001b[1;32m    585\u001b[0m }\n\u001b[1;32m    586\u001b[0m send_kwargs\u001b[39m.\u001b[39mupdate(settings)\n\u001b[0;32m--> 587\u001b[0m resp \u001b[39m=\u001b[39m \u001b[39mself\u001b[39;49m\u001b[39m.\u001b[39;49msend(prep, \u001b[39m*\u001b[39;49m\u001b[39m*\u001b[39;49msend_kwargs)\n\u001b[1;32m    589\u001b[0m \u001b[39mreturn\u001b[39;00m resp\n",
                        "File \u001b[0;32m~/miniconda3/envs/cloud/lib/python3.11/site-packages/requests/sessions.py:701\u001b[0m, in \u001b[0;36mSession.send\u001b[0;34m(self, request, **kwargs)\u001b[0m\n\u001b[1;32m    698\u001b[0m start \u001b[39m=\u001b[39m preferred_clock()\n\u001b[1;32m    700\u001b[0m \u001b[39m# Send the request\u001b[39;00m\n\u001b[0;32m--> 701\u001b[0m r \u001b[39m=\u001b[39m adapter\u001b[39m.\u001b[39;49msend(request, \u001b[39m*\u001b[39;49m\u001b[39m*\u001b[39;49mkwargs)\n\u001b[1;32m    703\u001b[0m \u001b[39m# Total elapsed time of the request (approximately)\u001b[39;00m\n\u001b[1;32m    704\u001b[0m elapsed \u001b[39m=\u001b[39m preferred_clock() \u001b[39m-\u001b[39m start\n",
                        "File \u001b[0;32m~/miniconda3/envs/cloud/lib/python3.11/site-packages/requests/adapters.py:486\u001b[0m, in \u001b[0;36mHTTPAdapter.send\u001b[0;34m(self, request, stream, timeout, verify, cert, proxies)\u001b[0m\n\u001b[1;32m    483\u001b[0m     timeout \u001b[39m=\u001b[39m TimeoutSauce(connect\u001b[39m=\u001b[39mtimeout, read\u001b[39m=\u001b[39mtimeout)\n\u001b[1;32m    485\u001b[0m \u001b[39mtry\u001b[39;00m:\n\u001b[0;32m--> 486\u001b[0m     resp \u001b[39m=\u001b[39m conn\u001b[39m.\u001b[39;49murlopen(\n\u001b[1;32m    487\u001b[0m         method\u001b[39m=\u001b[39;49mrequest\u001b[39m.\u001b[39;49mmethod,\n\u001b[1;32m    488\u001b[0m         url\u001b[39m=\u001b[39;49murl,\n\u001b[1;32m    489\u001b[0m         body\u001b[39m=\u001b[39;49mrequest\u001b[39m.\u001b[39;49mbody,\n\u001b[1;32m    490\u001b[0m         headers\u001b[39m=\u001b[39;49mrequest\u001b[39m.\u001b[39;49mheaders,\n\u001b[1;32m    491\u001b[0m         redirect\u001b[39m=\u001b[39;49m\u001b[39mFalse\u001b[39;49;00m,\n\u001b[1;32m    492\u001b[0m         assert_same_host\u001b[39m=\u001b[39;49m\u001b[39mFalse\u001b[39;49;00m,\n\u001b[1;32m    493\u001b[0m         preload_content\u001b[39m=\u001b[39;49m\u001b[39mFalse\u001b[39;49;00m,\n\u001b[1;32m    494\u001b[0m         decode_content\u001b[39m=\u001b[39;49m\u001b[39mFalse\u001b[39;49;00m,\n\u001b[1;32m    495\u001b[0m         retries\u001b[39m=\u001b[39;49m\u001b[39mself\u001b[39;49m\u001b[39m.\u001b[39;49mmax_retries,\n\u001b[1;32m    496\u001b[0m         timeout\u001b[39m=\u001b[39;49mtimeout,\n\u001b[1;32m    497\u001b[0m         chunked\u001b[39m=\u001b[39;49mchunked,\n\u001b[1;32m    498\u001b[0m     )\n\u001b[1;32m    500\u001b[0m \u001b[39mexcept\u001b[39;00m (ProtocolError, \u001b[39mOSError\u001b[39;00m) \u001b[39mas\u001b[39;00m err:\n\u001b[1;32m    501\u001b[0m     \u001b[39mraise\u001b[39;00m \u001b[39mConnectionError\u001b[39;00m(err, request\u001b[39m=\u001b[39mrequest)\n",
                        "File \u001b[0;32m~/miniconda3/envs/cloud/lib/python3.11/site-packages/urllib3/connectionpool.py:703\u001b[0m, in \u001b[0;36mHTTPConnectionPool.urlopen\u001b[0;34m(self, method, url, body, headers, retries, redirect, assert_same_host, timeout, pool_timeout, release_conn, chunked, body_pos, **response_kw)\u001b[0m\n\u001b[1;32m    700\u001b[0m     \u001b[39mself\u001b[39m\u001b[39m.\u001b[39m_prepare_proxy(conn)\n\u001b[1;32m    702\u001b[0m \u001b[39m# Make the request on the httplib connection object.\u001b[39;00m\n\u001b[0;32m--> 703\u001b[0m httplib_response \u001b[39m=\u001b[39m \u001b[39mself\u001b[39;49m\u001b[39m.\u001b[39;49m_make_request(\n\u001b[1;32m    704\u001b[0m     conn,\n\u001b[1;32m    705\u001b[0m     method,\n\u001b[1;32m    706\u001b[0m     url,\n\u001b[1;32m    707\u001b[0m     timeout\u001b[39m=\u001b[39;49mtimeout_obj,\n\u001b[1;32m    708\u001b[0m     body\u001b[39m=\u001b[39;49mbody,\n\u001b[1;32m    709\u001b[0m     headers\u001b[39m=\u001b[39;49mheaders,\n\u001b[1;32m    710\u001b[0m     chunked\u001b[39m=\u001b[39;49mchunked,\n\u001b[1;32m    711\u001b[0m )\n\u001b[1;32m    713\u001b[0m \u001b[39m# If we're going to release the connection in ``finally:``, then\u001b[39;00m\n\u001b[1;32m    714\u001b[0m \u001b[39m# the response doesn't need to know about the connection. Otherwise\u001b[39;00m\n\u001b[1;32m    715\u001b[0m \u001b[39m# it will also try to release it and we'll have a double-release\u001b[39;00m\n\u001b[1;32m    716\u001b[0m \u001b[39m# mess.\u001b[39;00m\n\u001b[1;32m    717\u001b[0m response_conn \u001b[39m=\u001b[39m conn \u001b[39mif\u001b[39;00m \u001b[39mnot\u001b[39;00m release_conn \u001b[39melse\u001b[39;00m \u001b[39mNone\u001b[39;00m\n",
                        "File \u001b[0;32m~/miniconda3/envs/cloud/lib/python3.11/site-packages/urllib3/connectionpool.py:449\u001b[0m, in \u001b[0;36mHTTPConnectionPool._make_request\u001b[0;34m(self, conn, method, url, timeout, chunked, **httplib_request_kw)\u001b[0m\n\u001b[1;32m    444\u001b[0m             httplib_response \u001b[39m=\u001b[39m conn\u001b[39m.\u001b[39mgetresponse()\n\u001b[1;32m    445\u001b[0m         \u001b[39mexcept\u001b[39;00m \u001b[39mBaseException\u001b[39;00m \u001b[39mas\u001b[39;00m e:\n\u001b[1;32m    446\u001b[0m             \u001b[39m# Remove the TypeError from the exception chain in\u001b[39;00m\n\u001b[1;32m    447\u001b[0m             \u001b[39m# Python 3 (including for exceptions like SystemExit).\u001b[39;00m\n\u001b[1;32m    448\u001b[0m             \u001b[39m# Otherwise it looks like a bug in the code.\u001b[39;00m\n\u001b[0;32m--> 449\u001b[0m             six\u001b[39m.\u001b[39;49mraise_from(e, \u001b[39mNone\u001b[39;49;00m)\n\u001b[1;32m    450\u001b[0m \u001b[39mexcept\u001b[39;00m (SocketTimeout, BaseSSLError, SocketError) \u001b[39mas\u001b[39;00m e:\n\u001b[1;32m    451\u001b[0m     \u001b[39mself\u001b[39m\u001b[39m.\u001b[39m_raise_timeout(err\u001b[39m=\u001b[39me, url\u001b[39m=\u001b[39murl, timeout_value\u001b[39m=\u001b[39mread_timeout)\n",
                        "File \u001b[0;32m<string>:3\u001b[0m, in \u001b[0;36mraise_from\u001b[0;34m(value, from_value)\u001b[0m\n",
                        "File \u001b[0;32m~/miniconda3/envs/cloud/lib/python3.11/site-packages/urllib3/connectionpool.py:444\u001b[0m, in \u001b[0;36mHTTPConnectionPool._make_request\u001b[0;34m(self, conn, method, url, timeout, chunked, **httplib_request_kw)\u001b[0m\n\u001b[1;32m    441\u001b[0m \u001b[39mexcept\u001b[39;00m \u001b[39mTypeError\u001b[39;00m:\n\u001b[1;32m    442\u001b[0m     \u001b[39m# Python 3\u001b[39;00m\n\u001b[1;32m    443\u001b[0m     \u001b[39mtry\u001b[39;00m:\n\u001b[0;32m--> 444\u001b[0m         httplib_response \u001b[39m=\u001b[39m conn\u001b[39m.\u001b[39;49mgetresponse()\n\u001b[1;32m    445\u001b[0m     \u001b[39mexcept\u001b[39;00m \u001b[39mBaseException\u001b[39;00m \u001b[39mas\u001b[39;00m e:\n\u001b[1;32m    446\u001b[0m         \u001b[39m# Remove the TypeError from the exception chain in\u001b[39;00m\n\u001b[1;32m    447\u001b[0m         \u001b[39m# Python 3 (including for exceptions like SystemExit).\u001b[39;00m\n\u001b[1;32m    448\u001b[0m         \u001b[39m# Otherwise it looks like a bug in the code.\u001b[39;00m\n\u001b[1;32m    449\u001b[0m         six\u001b[39m.\u001b[39mraise_from(e, \u001b[39mNone\u001b[39;00m)\n",
                        "File \u001b[0;32m~/miniconda3/envs/cloud/lib/python3.11/http/client.py:1375\u001b[0m, in \u001b[0;36mHTTPConnection.getresponse\u001b[0;34m(self)\u001b[0m\n\u001b[1;32m   1373\u001b[0m \u001b[39mtry\u001b[39;00m:\n\u001b[1;32m   1374\u001b[0m     \u001b[39mtry\u001b[39;00m:\n\u001b[0;32m-> 1375\u001b[0m         response\u001b[39m.\u001b[39;49mbegin()\n\u001b[1;32m   1376\u001b[0m     \u001b[39mexcept\u001b[39;00m \u001b[39mConnectionError\u001b[39;00m:\n\u001b[1;32m   1377\u001b[0m         \u001b[39mself\u001b[39m\u001b[39m.\u001b[39mclose()\n",
                        "File \u001b[0;32m~/miniconda3/envs/cloud/lib/python3.11/http/client.py:318\u001b[0m, in \u001b[0;36mHTTPResponse.begin\u001b[0;34m(self)\u001b[0m\n\u001b[1;32m    316\u001b[0m \u001b[39m# read until we get a non-100 response\u001b[39;00m\n\u001b[1;32m    317\u001b[0m \u001b[39mwhile\u001b[39;00m \u001b[39mTrue\u001b[39;00m:\n\u001b[0;32m--> 318\u001b[0m     version, status, reason \u001b[39m=\u001b[39m \u001b[39mself\u001b[39;49m\u001b[39m.\u001b[39;49m_read_status()\n\u001b[1;32m    319\u001b[0m     \u001b[39mif\u001b[39;00m status \u001b[39m!=\u001b[39m CONTINUE:\n\u001b[1;32m    320\u001b[0m         \u001b[39mbreak\u001b[39;00m\n",
                        "File \u001b[0;32m~/miniconda3/envs/cloud/lib/python3.11/http/client.py:279\u001b[0m, in \u001b[0;36mHTTPResponse._read_status\u001b[0;34m(self)\u001b[0m\n\u001b[1;32m    278\u001b[0m \u001b[39mdef\u001b[39;00m \u001b[39m_read_status\u001b[39m(\u001b[39mself\u001b[39m):\n\u001b[0;32m--> 279\u001b[0m     line \u001b[39m=\u001b[39m \u001b[39mstr\u001b[39m(\u001b[39mself\u001b[39m\u001b[39m.\u001b[39mfp\u001b[39m.\u001b[39mreadline(_MAXLINE \u001b[39m+\u001b[39m \u001b[39m1\u001b[39m), \u001b[39m\"\u001b[39m\u001b[39miso-8859-1\u001b[39m\u001b[39m\"\u001b[39m)\n\u001b[1;32m    280\u001b[0m     \u001b[39mif\u001b[39;00m \u001b[39mlen\u001b[39m(line) \u001b[39m>\u001b[39m _MAXLINE:\n\u001b[1;32m    281\u001b[0m         \u001b[39mraise\u001b[39;00m LineTooLong(\u001b[39m\"\u001b[39m\u001b[39mstatus line\u001b[39m\u001b[39m\"\u001b[39m)\n",
                        "File \u001b[0;32m~/miniconda3/envs/cloud/lib/python3.11/socket.py:706\u001b[0m, in \u001b[0;36mSocketIO.readinto\u001b[0;34m(self, b)\u001b[0m\n\u001b[1;32m    704\u001b[0m \u001b[39mwhile\u001b[39;00m \u001b[39mTrue\u001b[39;00m:\n\u001b[1;32m    705\u001b[0m     \u001b[39mtry\u001b[39;00m:\n\u001b[0;32m--> 706\u001b[0m         \u001b[39mreturn\u001b[39;00m \u001b[39mself\u001b[39;49m\u001b[39m.\u001b[39;49m_sock\u001b[39m.\u001b[39;49mrecv_into(b)\n\u001b[1;32m    707\u001b[0m     \u001b[39mexcept\u001b[39;00m timeout:\n\u001b[1;32m    708\u001b[0m         \u001b[39mself\u001b[39m\u001b[39m.\u001b[39m_timeout_occurred \u001b[39m=\u001b[39m \u001b[39mTrue\u001b[39;00m\n",
                        "\u001b[0;31mKeyboardInterrupt\u001b[0m: "
                    ]
                }
            ],
            "source": [
                "# def get_num_images():\n",
                "#     objects = client.list_objects(bucket_name=\"images\")\n",
                "#     num_images = sum(1 for _ in objects)\n",
                "#     return num_images\n",
                "\n",
                "# num_images = 6438\n",
                "\n",
                "# def assign_image(index):\n",
                "#     return index % num_images\n",
                "\n",
                "# REMOVABLE_WORDS = [\"gelateria\", \"pizzeria\", \"trattoria\", \"ristorante\", \"bisteccheria\"]\n",
                "# def clean_name(name):\n",
                "#     return \" \".join([word for word in name.lower().split(\" \") if word not in REMOVABLE_WORDS])\n",
                "\n",
                "# def create_restaurant(row):\n",
                "#     body = {\n",
                "#             \"name\": row[\"restaurant_name\"],\n",
                "#             \"embeddingName\": f\"embedding_{(row['index'])}\",\n",
                "#             \"imageName\": f\"restaurant_image_{assign_image(row['index'])}\",\n",
                "#             \"address\": row[\"address\"],\n",
                "#             \"latitude\": float(row[\"latitude\"]),\n",
                "#             \"longitude\": float(row[\"longitude\"]),\n",
                "#             \"country\": row[\"country\"],\n",
                "#             \"region\": row[\"region\"],\n",
                "#             \"province\": row[\"province\"],\n",
                "#             \"city\": row[\"city\"],\n",
                "#             \"tags\": row[\"top_tags\"],\n",
                "#             \"cuisines\": row[\"cuisines\"],\n",
                "#             \"specialDiets\": row[\"special_diets\"],\n",
                "#             \"priceLevel\": row[\"price_level\"],\n",
                "#             \"meals\": row[\"meals\"],\n",
                "#             \"avgRating\": float(row[\"avg_rating\"]),\n",
                "#             \"vegetarianFriendly\": row[\"vegetarian_friendly\"] == \"Y\",\n",
                "#             \"veganFriendly\": row[\"vegan_options\"] == \"Y\",\n",
                "#             \"glutenFree\": row[\"gluten_free\"] == \"Y\",\n",
                "#             \"reviewsNumber\": int(row[\"total_reviews_count\"])\n",
                "#         }\n",
                "\n",
                "    \n",
                "#     result = requests.post(URL, json=body)\n",
                "\n",
                "# import json\n",
                "# import io\n",
                "# def insert_embeddings(row):\n",
                "#     BUCKET_NAME = \"embeddings\"\n",
                "#     embedding =  embed_name(clean_name(row[\"restaurant_name\"])).numpy().tolist()\n",
                "#     embedding_str = json.dumps(embedding)\n",
                "#     embedding_bytes = embedding_str.encode(\"utf-8\")\n",
                "#     client.put_object(\n",
                "#             BUCKET_NAME, f\"embedding_{row['index']}\", io.BytesIO(embedding_bytes), length=len(embedding_bytes))\n",
                "\n",
                "# tqdm.pandas()\n",
                "# # df.progress_apply(create_restaurant, axis=1)\n",
                "# # df.progress_apply(insert_embeddings, axis=1)"
            ]
        }
    ],
    "metadata": {
        "interpreter": {
            "hash": "e2bc8980cb88ae0a837e87b73d32a0358c7a3f3f147e5e618888ff0a56c95a7e"
        },
        "kernelspec": {
            "display_name": "Python 3.11.3 ('bd')",
            "language": "python",
            "name": "python3"
        },
        "language_info": {
            "codemirror_mode": {
                "name": "ipython",
                "version": 3
            },
            "file_extension": ".py",
            "mimetype": "text/x-python",
            "name": "python",
            "nbconvert_exporter": "python",
            "pygments_lexer": "ipython3",
            "version": "3.11.3"
        },
        "orig_nbformat": 4
    },
    "nbformat": 4,
    "nbformat_minor": 2
}
