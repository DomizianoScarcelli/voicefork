{
    "cells": [
        {
            "cell_type": "code",
            "execution_count": 1,
            "metadata": {},
            "outputs": [],
            "source": [
                "import numpy as np\n",
                "import pandas as pd\n",
                "import requests\n",
                "from zipfile import ZipFile\n",
                "from ahocorasick import Automaton\n",
                "from tqdm.auto import tqdm"
            ]
        },
        {
            "attachments": {},
            "cell_type": "markdown",
            "metadata": {},
            "source": [
                "# Code to clean the data"
            ]
        },
        {
            "cell_type": "code",
            "execution_count": 2,
            "metadata": {},
            "outputs": [
                {
                    "name": "stderr",
                    "output_type": "stream",
                    "text": [
                        "/tmp/ipykernel_201939/804822752.py:4: DtypeWarning: Columns (7) have mixed types. Specify dtype option on import or set low_memory=False.\n",
                        "  data = pd.read_csv(zip_file.open(csv_file))\n"
                    ]
                }
            ],
            "source": [
                "FILE = \"./italian_restaurants.zip\"\n",
                "zip_file = ZipFile(FILE)\n",
                "csv_file = zip_file.namelist()[0]\n",
                "data = pd.read_csv(zip_file.open(csv_file))"
            ]
        },
        {
            "cell_type": "code",
            "execution_count": 3,
            "metadata": {},
            "outputs": [],
            "source": [
                "# data.iloc[0]"
            ]
        },
        {
            "attachments": {},
            "cell_type": "markdown",
            "metadata": {},
            "source": [
                "Removing useless fields"
            ]
        },
        {
            "cell_type": "code",
            "execution_count": 4,
            "metadata": {},
            "outputs": [],
            "source": [
                "df = data.drop([\"claimed\", \n",
                "           \"awards\", \n",
                "           \"popularity_detailed\", \n",
                "           \"popularity_generic\", \n",
                "           \"price_range\", \n",
                "           \"features\", \n",
                "           \"open_days_per_week\", \n",
                "           \"open_hours_per_week\", \n",
                "           \"working_shifts_per_week\",\n",
                "           \"default_language\",\n",
                "           \"reviews_count_in_default_language\",\n",
                "           \"excellent\",\n",
                "           \"very_good\",\n",
                "           \"average\",\n",
                "           \"poor\",\n",
                "           \"terrible\",\n",
                "           \"food\",\n",
                "           \"service\",\n",
                "           \"value\",\n",
                "           \"atmosphere\",\n",
                "           \"keywords\"], axis=1)"
            ]
        },
        {
            "attachments": {},
            "cell_type": "markdown",
            "metadata": {},
            "source": [
                "Populating the \"City\" field taking it from the address"
            ]
        },
        {
            "cell_type": "code",
            "execution_count": 5,
            "metadata": {},
            "outputs": [],
            "source": [
                "comuni_df = pd.read_csv(\"./elenco_comuni_italiani.csv\", encoding='iso-8859-1', delimiter=\";\")"
            ]
        },
        {
            "cell_type": "code",
            "execution_count": 6,
            "metadata": {},
            "outputs": [
                {
                    "data": {
                        "application/vnd.jupyter.widget-view+json": {
                            "model_id": "5b0b4f9ffee2435ca8422f9e5e3b3cb6",
                            "version_major": 2,
                            "version_minor": 0
                        },
                        "text/plain": [
                            "  0%|          | 0/224763 [00:00<?, ?it/s]"
                        ]
                    },
                    "metadata": {},
                    "output_type": "display_data"
                }
            ],
            "source": [
                "#TODO: \"Rome\" non viene preso, quindi risolvi questa cosa\n",
                "def build_automaton(keywords):\n",
                "    automaton = Automaton()\n",
                "    for keyword in keywords:\n",
                "        automaton.add_word(keyword, keyword)\n",
                "    automaton.make_automaton()\n",
                "    return automaton\n",
                "\n",
                "keywords = [row['Denominazione in italiano'].lower() for _, row in comuni_df.iterrows() if type(row[\"Denominazione in italiano\"]) == str]\n",
                "automaton = build_automaton(keywords)\n",
                "\n",
                "def find_comune(address):\n",
                "    found = set()\n",
                "    for item in automaton.iter(\",\".join(address.split(\",\")[1:]).lower()):\n",
                "        found.add(item[1])\n",
                "    if found:\n",
                "        return max(found, key=len)\n",
                "    else:\n",
                "        return None\n",
                "\n",
                "tqdm.pandas()\n",
                "df['city'] = df['address'].progress_apply(find_comune)\n",
                "\n"
            ]
        },
        {
            "cell_type": "code",
            "execution_count": 7,
            "metadata": {},
            "outputs": [],
            "source": [
                "final_df = df.copy()\n",
                "final_df['total_reviews_count'] = final_df['total_reviews_count'].fillna(0.0)\n",
                "final_df['avg_rating'] = final_df['avg_rating'].fillna(0.0)\n",
                "final_df = final_df.fillna(\"\")\n",
                "final_df = final_df[final_df[\"latitude\"] != \"\"]\n",
                "final_df = final_df[final_df[\"longitude\"] != \"\"]"
            ]
        },
        {
            "cell_type": "code",
            "execution_count": 8,
            "metadata": {},
            "outputs": [],
            "source": [
                "df = final_df.reset_index()"
            ]
        },
        {
            "attachments": {},
            "cell_type": "markdown",
            "metadata": {},
            "source": [
                "### Save the dataframe as a zipped file"
            ]
        },
        {
            "cell_type": "code",
            "execution_count": 9,
            "metadata": {},
            "outputs": [],
            "source": [
                "# from zipfile import ZipFile\n",
                "# import os\n",
                "\n",
                "# DF_PATH = \"./italian_restaurant_clean.csv\"\n",
                "# ZIP_PATH = \"./italian_restaurant_clean.zip\"\n",
                "# final_df.to_csv(DF_PATH)\n",
                "# with ZipFile(ZIP_PATH, \"w\") as myzip:\n",
                "#     myzip.write(DF_PATH)\n",
                "\n",
                "# os.remove(DF_PATH)"
            ]
        },
        {
            "attachments": {},
            "cell_type": "markdown",
            "metadata": {},
            "source": [
                "# Code to insert the restaurants in the database "
            ]
        },
        {
            "cell_type": "code",
            "execution_count": 10,
            "metadata": {},
            "outputs": [],
            "source": [
                "# df = pd.read_csv(\"./italian_restaurant_clean.zip\")"
            ]
        },
        {
            "cell_type": "code",
            "execution_count": 12,
            "metadata": {},
            "outputs": [
                {
                    "name": "stdout",
                    "output_type": "stream",
                    "text": [
                        "Downloaded https://tfhub.dev/google/universal-sentence-encoder-large/5, Total size: 577.10MB\n",
                        "\n"
                    ]
                }
            ],
            "source": [
                "import tensorflow as tf\n",
                "import tensorflow_hub as hub\n",
                "import os\n",
                "os.environ['TFHUB_DOWNLOAD_PROGRESS'] = \"1\"\n",
                "\n",
                "# Load the Universal Sentence Encoder\n",
                "model = hub.load(\n",
                "                \"https://tfhub.dev/google/universal-sentence-encoder-large/5\")\n",
                "def embed_name(name):\n",
                "    embeddings = model([name])\n",
                "    return embeddings[0]"
            ]
        },
        {
            "cell_type": "code",
            "execution_count": 14,
            "metadata": {},
            "outputs": [
                {
                    "name": "stdout",
                    "output_type": "stream",
                    "text": [
                        "1.1920928955078125e-07\n"
                    ]
                }
            ],
            "source": [
                "restaurant1 = \"Mariuccio\"\n",
                "restaurant2 = \"Mariuccio\"\n",
                "\n",
                "# Embed the restaurant names\n",
                "embedding1 = embed_name(restaurant1)\n",
                "embedding2 = embed_name(restaurant2)\n",
                "\n",
                "# Compute similarity between the embeddings\n",
                "distance = 1 - np.inner(embedding1, embedding2)\n",
                "\n",
                "print(distance)"
            ]
        },
        {
            "cell_type": "code",
            "execution_count": 15,
            "metadata": {},
            "outputs": [],
            "source": [
                "from minio import Minio\n",
                "\n",
                "URL = 'http://localhost:3000/restaurants/create-restaurant'\n",
                "\n",
                "client = Minio(\n",
                "    \"localhost:9002\",\n",
                "    access_key=\"Dec6s4zuTzoVhnvYmALO\",\n",
                "    secret_key=\"cWizD0DDGjGPNfflDDDOXmjE9VvzdEXvQrOZPEpI\",\n",
                "    secure=False  # Otherwise bug\n",
                ")"
            ]
        },
        {
            "cell_type": "code",
            "execution_count": 17,
            "metadata": {},
            "outputs": [
                {
                    "data": {
                        "application/vnd.jupyter.widget-view+json": {
                            "model_id": "239471ea050d48828971d8eff0183a2c",
                            "version_major": 2,
                            "version_minor": 0
                        },
                        "text/plain": [
                            "  0%|          | 0/222603 [00:00<?, ?it/s]"
                        ]
                    },
                    "metadata": {},
                    "output_type": "display_data"
                },
                {
                    "data": {
                        "text/plain": [
                            "0         None\n",
                            "1         None\n",
                            "2         None\n",
                            "3         None\n",
                            "4         None\n",
                            "          ... \n",
                            "222598    None\n",
                            "222599    None\n",
                            "222600    None\n",
                            "222601    None\n",
                            "222602    None\n",
                            "Length: 222603, dtype: object"
                        ]
                    },
                    "execution_count": 17,
                    "metadata": {},
                    "output_type": "execute_result"
                }
            ],
            "source": [
                "def get_num_images():\n",
                "    objects = client.list_objects(bucket_name=\"images\")\n",
                "    num_images = sum(1 for _ in objects)\n",
                "    return num_images\n",
                "\n",
                "num_images = get_num_images()\n",
                "\n",
                "def assign_image(index):\n",
                "    return index % num_images\n",
                "REMOVABLE_WORDS = [\"gelateria\", \"pizzeria\", \"trattoria\", \"ristorante\", \"bisteccheria\"]\n",
                "def clean_name(name):\n",
                "    return \" \".join([word for word in name.lower().split(\" \") if word not in REMOVABLE_WORDS])\n",
                "\n",
                "def create_restaurant(row):\n",
                "    body = {\n",
                "            \"name\": row[\"restaurant_name\"],\n",
                "            \"embeddingName\": f\"embedding_{(row['index'])}\",\n",
                "            \"imageName\": f\"restaurant_image_{assign_image(row['index'])}\",\n",
                "            \"address\": row[\"address\"],\n",
                "            \"latitude\": float(row[\"latitude\"]),\n",
                "            \"longitude\": float(row[\"longitude\"]),\n",
                "            \"country\": row[\"country\"],\n",
                "            \"region\": row[\"region\"],\n",
                "            \"province\": row[\"province\"],\n",
                "            \"city\": row[\"city\"],\n",
                "            \"tags\": row[\"top_tags\"],\n",
                "            \"cuisines\": row[\"cuisines\"],\n",
                "            \"specialDiets\": row[\"special_diets\"],\n",
                "            \"priceLevel\": row[\"price_level\"],\n",
                "            \"meals\": row[\"meals\"],\n",
                "            \"avgRating\": float(row[\"avg_rating\"]),\n",
                "            \"vegetarianFriendly\": row[\"vegetarian_friendly\"] == \"Y\",\n",
                "            \"veganFriendly\": row[\"vegan_options\"] == \"Y\",\n",
                "            \"glutenFree\": row[\"gluten_free\"] == \"Y\",\n",
                "            \"reviewsNumber\": int(row[\"total_reviews_count\"])\n",
                "        }\n",
                "\n",
                "    \n",
                "    result = requests.post(URL, json=body)\n",
                "\n",
                "import json\n",
                "import io\n",
                "def insert_embeddings(row):\n",
                "    BUCKET_NAME = \"embeddings\"\n",
                "    embedding =  embed_name(clean_name(row[\"restaurant_name\"])).numpy().tolist()\n",
                "    embedding_str = json.dumps(embedding)\n",
                "    embedding_bytes = embedding_str.encode(\"utf-8\")\n",
                "    client.put_object(\n",
                "            BUCKET_NAME, f\"embedding_{row['index']}\", io.BytesIO(embedding_bytes), length=len(embedding_bytes))\n",
                "\n",
                "tqdm.pandas()\n",
                "# df.progress_apply(create_restaurant, axis=1)\n",
                "df.progress_apply(insert_embeddings, axis=1)"
            ]
        }
    ],
    "metadata": {
        "interpreter": {
            "hash": "e2bc8980cb88ae0a837e87b73d32a0358c7a3f3f147e5e618888ff0a56c95a7e"
        },
        "kernelspec": {
            "display_name": "Python 3.11.3 ('bd')",
            "language": "python",
            "name": "python3"
        },
        "language_info": {
            "codemirror_mode": {
                "name": "ipython",
                "version": 3
            },
            "file_extension": ".py",
            "mimetype": "text/x-python",
            "name": "python",
            "nbconvert_exporter": "python",
            "pygments_lexer": "ipython3",
            "version": "3.11.3"
        },
        "orig_nbformat": 4
    },
    "nbformat": 4,
    "nbformat_minor": 2
}
